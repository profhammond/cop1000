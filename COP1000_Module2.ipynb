{
 "cells": [
  {
   "cell_type": "markdown",
   "id": "caea35d2",
   "metadata": {},
   "source": [
    "# Data: Types, Values, Variables, and Names"
   ]
  },
  {
   "cell_type": "markdown",
   "id": "7f4237bf",
   "metadata": {},
   "source": [
    "A data type is a classification of data which tells the compiler or interpreter how the programmer intends to use the data. Most programming languages support various types of data, including integer, set, character or string, and Boolean.\n",
    "https://en.wikipedia.org/wiki/Data_type"
   ]
  },
  {
   "cell_type": "markdown",
   "id": "9a3eddfc",
   "metadata": {},
   "source": [
    "\n",
    "<img src=\"https://phoenixnap.com/kb/wp-content/uploads/2021/04/Python-Data-Types-Overview.png\" width=600 height=600 />"
   ]
  },
  {
   "cell_type": "markdown",
   "id": "460b17eb",
   "metadata": {},
   "source": [
    "### What is an object?\n",
    "In object-oriented programming (OOP), objects are the things you think about first in designing a program and they are also the units of code that are eventually derived from the process. In between, each object is made into a generic class of object, and even more generic classes are defined so that objects can share models and reuse the class definitions in their code. Each object is an instance of a particular class or subclass with the class's own methods or procedures and data variables. An object is what actually runs in the computer.\n",
    "https://www.techtarget.com/searchapparchitecture/definition/object"
   ]
  },
  {
   "cell_type": "code",
   "execution_count": null,
   "id": "f7be2856",
   "metadata": {},
   "outputs": [],
   "source": [
    "#Identifier \n",
    "instructorname = 'Scott'\n",
    "INSTRUCTORNAME = 'Hammond'"
   ]
  },
  {
   "cell_type": "code",
   "execution_count": null,
   "id": "ab4ca551",
   "metadata": {},
   "outputs": [],
   "source": [
    "type(instructorname)"
   ]
  },
  {
   "cell_type": "code",
   "execution_count": null,
   "id": "ba17ce3c",
   "metadata": {},
   "outputs": [],
   "source": [
    "INSTRUCTORNAME"
   ]
  },
  {
   "cell_type": "code",
   "execution_count": null,
   "id": "7bfeddbc",
   "metadata": {},
   "outputs": [],
   "source": [
    "age = 25"
   ]
  },
  {
   "cell_type": "code",
   "execution_count": null,
   "id": "18c42ea5",
   "metadata": {},
   "outputs": [],
   "source": [
    "type(age)"
   ]
  },
  {
   "cell_type": "code",
   "execution_count": null,
   "id": "5bd163e4",
   "metadata": {},
   "outputs": [],
   "source": [
    "sales = 150.5"
   ]
  },
  {
   "cell_type": "code",
   "execution_count": null,
   "id": "1d44f3cf",
   "metadata": {},
   "outputs": [],
   "source": [
    "type(sales)"
   ]
  },
  {
   "cell_type": "code",
   "execution_count": null,
   "id": "4ac997c1",
   "metadata": {},
   "outputs": [],
   "source": [
    "quantity_purchased = 10 \n",
    "type(quantity_purchased)"
   ]
  },
  {
   "cell_type": "code",
   "execution_count": null,
   "id": "85deb047",
   "metadata": {},
   "outputs": [],
   "source": [
    "a = sales>100"
   ]
  },
  {
   "cell_type": "code",
   "execution_count": null,
   "id": "4265df72",
   "metadata": {},
   "outputs": [],
   "source": [
    "type(a)"
   ]
  },
  {
   "cell_type": "markdown",
   "id": "65512a25",
   "metadata": {},
   "source": [
    "### What are Pointers?\n",
    "\n",
    "In computer science, a pointer is an object in many programming languages that stores a memory address. This can be that of another value located in computer memory, or in some cases, that of memory-mapped computer hardware.\n",
    "\n",
    "Python does not use pointers, but many other programming languages that you may use do include pointers."
   ]
  },
  {
   "cell_type": "markdown",
   "id": "062f17ba",
   "metadata": {},
   "source": [
    "### What does mutable mean?\n",
    "\n",
    "In programming, mutable and immutable refer to the state of an object - and how variables can be assigned and changed. Data needs to be changed - after all, most sites and applications these days are dynamic - but how that data is changed is what matters."
   ]
  },
  {
   "cell_type": "code",
   "execution_count": null,
   "id": "698b50dd",
   "metadata": {},
   "outputs": [],
   "source": [
    "#Dynamically Typed Programming Language"
   ]
  },
  {
   "cell_type": "code",
   "execution_count": null,
   "id": "29225f2f",
   "metadata": {},
   "outputs": [],
   "source": [
    "cust123 = 'John'"
   ]
  },
  {
   "cell_type": "code",
   "execution_count": null,
   "id": "588ff593",
   "metadata": {},
   "outputs": [],
   "source": [
    "cust123"
   ]
  },
  {
   "cell_type": "code",
   "execution_count": null,
   "id": "61515710",
   "metadata": {},
   "outputs": [],
   "source": [
    "cust123or = 'James'"
   ]
  },
  {
   "cell_type": "code",
   "execution_count": null,
   "id": "c9330d9b",
   "metadata": {},
   "outputs": [],
   "source": [
    "cust123or"
   ]
  },
  {
   "cell_type": "markdown",
   "id": "08dc5878",
   "metadata": {},
   "source": [
    "###  What is programming language syntax?\n",
    "\n",
    "\n",
    "We refer to syntax in computer programming as the concept of giving specific word sets in specific orders to computers so that they do what we want them to do. Every programming language uses different word sets in different orders, which means that each programming language uses its own syntax. \n"
   ]
  },
  {
   "cell_type": "code",
   "execution_count": null,
   "id": "66cd3554",
   "metadata": {},
   "outputs": [],
   "source": [
    "123cust = 'Scott'"
   ]
  },
  {
   "cell_type": "code",
   "execution_count": null,
   "id": "cee7e36a",
   "metadata": {},
   "outputs": [],
   "source": [
    "$_cust = 'Scott'"
   ]
  },
  {
   "cell_type": "code",
   "execution_count": null,
   "id": "6a982ca2",
   "metadata": {},
   "outputs": [],
   "source": [
    "_cust"
   ]
  },
  {
   "cell_type": "code",
   "execution_count": null,
   "id": "8418fa24",
   "metadata": {},
   "outputs": [],
   "source": [
    "import keyword \n",
    "len(keyword.kwlist)"
   ]
  },
  {
   "cell_type": "code",
   "execution_count": null,
   "id": "c4b4bafb",
   "metadata": {},
   "outputs": [],
   "source": [
    "false = 'Scott'"
   ]
  },
  {
   "cell_type": "markdown",
   "id": "24d57f30",
   "metadata": {},
   "source": [
    "### Computers Can’t Read Typos\n",
    "\n",
    "Many of you will realize quickly that computers are not intuitive. By that I mean they don't have the intuition required to know that you actually meant something other than you told it. As humans we use this intuition quite often and know what someone means even though they said something else. Spelling, capitalization, sequence and many other things matter. In programming we must be explicit, not implicit... "
   ]
  },
  {
   "cell_type": "markdown",
   "id": "94068c0f",
   "metadata": {},
   "source": [
    "# What is Logic?\n",
    "\n",
    "a system or set of principles underlying the arrangements of elements in a computer or electronic device so as to perform a specified task."
   ]
  },
  {
   "cell_type": "markdown",
   "id": "1004828f",
   "metadata": {},
   "source": [
    "# What is an Algorithm?"
   ]
  },
  {
   "cell_type": "markdown",
   "id": "90cb07f9",
   "metadata": {},
   "source": [
    "In computer programming terms, an algorithm is a set of well-defined instructions to solve a particular problem. It takes a set of input and produces a desired output. For example,\n",
    "\n",
    "**An algorithm to add two numbers:**\n",
    "\n",
    "1. Take two number inputs\n",
    "\n",
    "2. Add numbers using the + operator\n",
    "\n",
    "3. Display the result\n",
    "\n",
    "**Qualities of Good Algorithms**\n",
    "* Input and output should be defined precisely.\n",
    "* Each step in the algorithm should be clear and unambiguous.\n",
    "* Algorithms should be most effective among many different ways to solve a problem.\n",
    "* An algorithm shouldn't include computer code. Instead, the algorithm should be written in such a way that it can be used in different programming languages."
   ]
  },
  {
   "cell_type": "markdown",
   "id": "73351869",
   "metadata": {},
   "source": [
    "**Algorithm 1: Add two numbers entered by the user**<br>\n",
    " **Step 1:** Start<br>\n",
    " **Step 2:** Declare variables num1, num2 and sum.<br> \n",
    " **Step 3:** Read values num1 and num2. <br>\n",
    " **Step 4:** Add num1 and num2 and assign the result to sum.<br>\n",
    " sum←num1+num2<br>\n",
    " **Step 5:** Display sum <br>\n",
    " **Step 6:** Stop <br>"
   ]
  },
  {
   "cell_type": "markdown",
   "id": "5a488ea2",
   "metadata": {},
   "source": [
    "**Algorithm 2: Find the largest number among three numbers**<br>\n",
    "**Step 1:** Start<br>\n",
    "**Step 2:** Declare variables a,b and c.<br>\n",
    "**Step 3:** Read variables a,b and c.<br>\n",
    "**Step 4:** If a > b<br>\n",
    "        &nbsp;&nbsp;&nbsp;&nbsp;&nbsp;&nbsp;&nbsp;&nbsp;&nbsp;&nbsp;&nbsp;&nbsp;&nbsp;   &nbsp; If a > c<br>\n",
    "              &nbsp;&nbsp;&nbsp;&nbsp;&nbsp;&nbsp;&nbsp;&nbsp;&nbsp;&nbsp;&nbsp;&nbsp;&nbsp;&nbsp;&nbsp;&nbsp;&nbsp;&nbsp;&nbsp;&nbsp;&nbsp;Display a is the largest number.<br>\n",
    "           &nbsp;&nbsp;&nbsp;&nbsp;&nbsp;&nbsp;&nbsp;&nbsp;&nbsp;&nbsp;&nbsp;&nbsp;&nbsp;&nbsp;&nbsp;&nbsp;Else<br>\n",
    "              &nbsp;&nbsp;&nbsp;&nbsp;&nbsp;&nbsp;&nbsp;&nbsp;&nbsp;&nbsp;&nbsp;&nbsp;&nbsp;&nbsp;&nbsp;&nbsp;&nbsp;&nbsp;&nbsp;&nbsp;&nbsp;Display c is the largest number.<br>\n",
    "       &nbsp;&nbsp;&nbsp;&nbsp;&nbsp;&nbsp;&nbsp;&nbsp;&nbsp;&nbsp;&nbsp;&nbsp;&nbsp;&nbsp;&nbsp; Else<br>\n",
    "          &nbsp;&nbsp;&nbsp;&nbsp;&nbsp;&nbsp;&nbsp;&nbsp;&nbsp;&nbsp;&nbsp;&nbsp;&nbsp;&nbsp;&nbsp;&nbsp;&nbsp;&nbsp;&nbsp;&nbsp;&nbsp; If b > c<br>\n",
    "            &nbsp;&nbsp;&nbsp;&nbsp;&nbsp;&nbsp;&nbsp;&nbsp;&nbsp;&nbsp;&nbsp;&nbsp;&nbsp;&nbsp;&nbsp;&nbsp;&nbsp;&nbsp;&nbsp;&nbsp;&nbsp;&nbsp;&nbsp;&nbsp;&nbsp;&nbsp;  Display b is the largest number.<br>\n",
    "          &nbsp;&nbsp;&nbsp;&nbsp;&nbsp;&nbsp;&nbsp;&nbsp;&nbsp;&nbsp;&nbsp;&nbsp;&nbsp;&nbsp;&nbsp;&nbsp;&nbsp;&nbsp;&nbsp;&nbsp;&nbsp; Else<br>\n",
    "            &nbsp;&nbsp;&nbsp;&nbsp;&nbsp;&nbsp;&nbsp;&nbsp;&nbsp;&nbsp;&nbsp;&nbsp;&nbsp;&nbsp;&nbsp;&nbsp;&nbsp;&nbsp;&nbsp;&nbsp;&nbsp; &nbsp;&nbsp;&nbsp;&nbsp; Display c is the greatest number. <br> \n",
    "**Step 5:** Stop<br>"
   ]
  },
  {
   "cell_type": "markdown",
   "id": "e64d9476",
   "metadata": {},
   "source": [
    "**Getting the Data Type**\n",
    "We have functions availabe to determine the type of a given variable. We 'pass' the variable to the function in the parenthesis and the function then returns the data type.\n",
    "   * *numpy* \n",
    "       * dtype()\n",
    "   * *py* \n",
    "       * type()"
   ]
  },
  {
   "cell_type": "markdown",
   "id": "6e4f8a33",
   "metadata": {},
   "source": [
    "In the code below we declare a variable x and assign a value of 23 to it. <br>\n",
    "We then pass the variable x to the type() function and then pass that to the print() function. you then see the data type returned when we run the code, but we see more than just the data type of 'int', we see **<class 'int'>**. We will discuss what a class is later in the course, but for now, let's just refer to it as some code that has been created that has attributes and or functionalities associated with it. So an int is a class that has attributes and functionalities associated with it."
   ]
  },
  {
   "cell_type": "markdown",
   "id": "89c5438d",
   "metadata": {},
   "source": [
    "# What is a Flowchart?\n",
    "\n",
    "he program flowchart is a data flow that shows the data flow while writing a program or algorithm. It allows the user to explain the process quickly as they collaborate with others. These programming flowcharts also analyze the logic behind the program to process the code of the programming.\n",
    "\n",
    "![Image of Flowchart symbols](http://theteacher.info/websites/ocr_alevel/WebPages/F452_ProgTechn/ProgramFlowcharts/a.JPG)\n",
    "![Image Example of Flowchart symbols](https://www.technokids.com/blog/wp-content/uploads/2020/10/guessing-game.png)"
   ]
  },
  {
   "cell_type": "markdown",
   "id": "18c00074",
   "metadata": {},
   "source": [
    "# What is Pseudocode?\n",
    "\n",
    "In computer science, pseudocode is a plain language description of the steps in an algorithm or another system. Pseudocode often uses structural conventions of a normal programming language, but is intended for human reading rather than machine reading. It typically omits details that are essential for machine understanding of the algorithm, such as variable declarations and language-specific code. The programming language is augmented with natural language description details, where convenient, or with compact mathematical notation. The purpose of using pseudocode is that it is easier for people to understand than conventional programming language code, and that it is an efficient and environment-independent description of the key principles of an algorithm. It is commonly used in textbooks and scientific publications to document algorithms and in planning of software and other algorithms.\n",
    "\n",
    "![Image of Flowchart and Pseudocode](https://media.cheggcdn.com/media/41e/41e622ce-43a2-4457-a3d5-758e5eaa7150/phpbbqBlA)"
   ]
  },
  {
   "cell_type": "code",
   "execution_count": null,
   "id": "31d34c7a",
   "metadata": {},
   "outputs": [],
   "source": [
    "my_string = \"Hello Scott\"\n",
    "type(my_string)\n",
    "#print(my_string.isalnum())"
   ]
  }
 ],
 "metadata": {
  "kernelspec": {
   "display_name": "Python 3 (ipykernel)",
   "language": "python",
   "name": "python3"
  },
  "language_info": {
   "codemirror_mode": {
    "name": "ipython",
    "version": 3
   },
   "file_extension": ".py",
   "mimetype": "text/x-python",
   "name": "python",
   "nbconvert_exporter": "python",
   "pygments_lexer": "ipython3",
   "version": "3.9.7"
  }
 },
 "nbformat": 4,
 "nbformat_minor": 5
}
