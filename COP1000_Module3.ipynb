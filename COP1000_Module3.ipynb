{
 "cells": [
  {
   "cell_type": "markdown",
   "id": "1693fca6",
   "metadata": {},
   "source": [
    "**Boolean Data**<br>\n",
    "In python, Boolean is a data type that is used to store two values True or False.\n",
    "   * *numpy*\n",
    "      * bool_ \n",
    "   * *py*\n",
    "      * bool\n",
    "      \n",
    "**Machine Data** \n",
    "   * bits\n",
    "   * bytes\n",
    "   * word\n",
    "   * binary number"
   ]
  },
  {
   "cell_type": "markdown",
   "id": "4347500e",
   "metadata": {},
   "source": [
    "**Numeric Data Types**\n",
    " * **Integer**\n",
    "   * *numpy*\n",
    "    * int\n",
    "    * uintc\n",
    "   * *py*\n",
    "    * int\n",
    " * **Floating Point**\n",
    "   * *numpy*\n",
    "    * float16 (half precision point)\n",
    "    * single\n",
    "   * *py*\n",
    "    * float    \n",
    " * **Short**\n",
    "   * *numpy*\n",
    "    * short\n",
    "     * ushort\n",
    " * **Long**\n",
    "   * *numpy*\n",
    "    * int_\n",
    "    * uint\n",
    "    * longlong\n",
    "    * ulonglong      \n",
    " * **Double**\n",
    "   * *numpy* \n",
    "    * double\n",
    "    * longdouble\n",
    " * **Decimal**"
   ]
  },
  {
   "cell_type": "markdown",
   "id": "254a0306",
   "metadata": {},
   "source": []
  },
  {
   "cell_type": "code",
   "execution_count": null,
   "id": "a0eea7be",
   "metadata": {},
   "outputs": [],
   "source": [
    "def domath(x,y):\n",
    "    result = x\n",
    "    z = 0\n",
    "    while z<y :\n",
    "        result = result - 1\n",
    "        print(result)\n",
    "        z = z +1\n",
    "    return result\n",
    "\n",
    "print(domath(10,5))"
   ]
  }
 ],
 "metadata": {
  "kernelspec": {
   "display_name": "Python 3 (ipykernel)",
   "language": "python",
   "name": "python3"
  },
  "language_info": {
   "codemirror_mode": {
    "name": "ipython",
    "version": 3
   },
   "file_extension": ".py",
   "mimetype": "text/x-python",
   "name": "python",
   "nbconvert_exporter": "python",
   "pygments_lexer": "ipython3",
   "version": "3.9.7"
  }
 },
 "nbformat": 4,
 "nbformat_minor": 5
}
