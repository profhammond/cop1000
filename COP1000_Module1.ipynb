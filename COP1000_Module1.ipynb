{
 "cells": [
  {
   "cell_type": "markdown",
   "id": "dc5c20ba",
   "metadata": {},
   "source": [
    "# What is Programming and why do I need it?"
   ]
  },
  {
   "cell_type": "markdown",
   "id": "0c7da0f5",
   "metadata": {},
   "source": []
  },
  {
   "cell_type": "code",
   "execution_count": null,
   "id": "e34abbbc",
   "metadata": {},
   "outputs": [],
   "source": []
  },
  {
   "cell_type": "code",
   "execution_count": null,
   "id": "ce26ee10",
   "metadata": {},
   "outputs": [],
   "source": []
  },
  {
   "cell_type": "markdown",
   "id": "f86e0528",
   "metadata": {},
   "source": [
    "# What is an Algorithm?"
   ]
  },
  {
   "cell_type": "markdown",
   "id": "7a8ed41e",
   "metadata": {},
   "source": [
    "In computer programming terms, an algorithm is a set of well-defined instructions to solve a particular problem. It takes a set of input and produces a desired output. For example,\n",
    "\n",
    "**An algorithm to add two numbers:**\n",
    "\n",
    "1. Take two number inputs\n",
    "\n",
    "2. Add numbers using the + operator\n",
    "\n",
    "3. Display the result\n",
    "\n",
    "**Qualities of Good Algorithms**\n",
    "* Input and output should be defined precisely.\n",
    "* Each step in the algorithm should be clear and unambiguous.\n",
    "* Algorithms should be most effective among many different ways to solve a problem.\n",
    "* An algorithm shouldn't include computer code. Instead, the algorithm should be written in such a way that it can be used in different programming languages."
   ]
  },
  {
   "cell_type": "markdown",
   "id": "6e8ac10a",
   "metadata": {},
   "source": [
    "**Algorithm 1: Add two numbers entered by the user**<br>\n",
    " **Step 1:** Start<br>\n",
    " **Step 2:** Declare variables num1, num2 and sum.<br> \n",
    " **Step 3:** Read values num1 and num2. <br>\n",
    " **Step 4:** Add num1 and num2 and assign the result to sum.<br>\n",
    " sum←num1+num2<br>\n",
    " **Step 5:** Display sum <br>\n",
    " **Step 6:** Stop <br>"
   ]
  },
  {
   "cell_type": "markdown",
   "id": "0307957a",
   "metadata": {},
   "source": [
    "**Algorithm 2: Find the largest number among three numbers**<br>\n",
    "**Step 1:** Start<br>\n",
    "**Step 2:** Declare variables a,b and c.<br>\n",
    "**Step 3:** Read variables a,b and c.<br>\n",
    "**Step 4:** If a > b<br>\n",
    "        &nbsp;&nbsp;&nbsp;&nbsp;&nbsp;&nbsp;&nbsp;&nbsp;&nbsp;&nbsp;&nbsp;&nbsp;&nbsp;   &nbsp; If a > c<br>\n",
    "              &nbsp;&nbsp;&nbsp;&nbsp;&nbsp;&nbsp;&nbsp;&nbsp;&nbsp;&nbsp;&nbsp;&nbsp;&nbsp;&nbsp;&nbsp;&nbsp;&nbsp;&nbsp;&nbsp;&nbsp;&nbsp;Display a is the largest number.<br>\n",
    "           &nbsp;&nbsp;&nbsp;&nbsp;&nbsp;&nbsp;&nbsp;&nbsp;&nbsp;&nbsp;&nbsp;&nbsp;&nbsp;&nbsp;&nbsp;&nbsp;Else<br>\n",
    "              &nbsp;&nbsp;&nbsp;&nbsp;&nbsp;&nbsp;&nbsp;&nbsp;&nbsp;&nbsp;&nbsp;&nbsp;&nbsp;&nbsp;&nbsp;&nbsp;&nbsp;&nbsp;&nbsp;&nbsp;&nbsp;Display c is the largest number.<br>\n",
    "       &nbsp;&nbsp;&nbsp;&nbsp;&nbsp;&nbsp;&nbsp;&nbsp;&nbsp;&nbsp;&nbsp;&nbsp;&nbsp;&nbsp;&nbsp; Else<br>\n",
    "          &nbsp;&nbsp;&nbsp;&nbsp;&nbsp;&nbsp;&nbsp;&nbsp;&nbsp;&nbsp;&nbsp;&nbsp;&nbsp;&nbsp;&nbsp;&nbsp;&nbsp;&nbsp;&nbsp;&nbsp;&nbsp; If b > c<br>\n",
    "            &nbsp;&nbsp;&nbsp;&nbsp;&nbsp;&nbsp;&nbsp;&nbsp;&nbsp;&nbsp;&nbsp;&nbsp;&nbsp;&nbsp;&nbsp;&nbsp;&nbsp;&nbsp;&nbsp;&nbsp;&nbsp;&nbsp;&nbsp;&nbsp;&nbsp;&nbsp;  Display b is the largest number.<br>\n",
    "          &nbsp;&nbsp;&nbsp;&nbsp;&nbsp;&nbsp;&nbsp;&nbsp;&nbsp;&nbsp;&nbsp;&nbsp;&nbsp;&nbsp;&nbsp;&nbsp;&nbsp;&nbsp;&nbsp;&nbsp;&nbsp; Else<br>\n",
    "            &nbsp;&nbsp;&nbsp;&nbsp;&nbsp;&nbsp;&nbsp;&nbsp;&nbsp;&nbsp;&nbsp;&nbsp;&nbsp;&nbsp;&nbsp;&nbsp;&nbsp;&nbsp;&nbsp;&nbsp;&nbsp; &nbsp;&nbsp;&nbsp;&nbsp; Display c is the greatest number. <br> \n",
    "**Step 5:** Stop<br>"
   ]
  }
 ],
 "metadata": {
  "kernelspec": {
   "display_name": "Python 3 (ipykernel)",
   "language": "python",
   "name": "python3"
  },
  "language_info": {
   "codemirror_mode": {
    "name": "ipython",
    "version": 3
   },
   "file_extension": ".py",
   "mimetype": "text/x-python",
   "name": "python",
   "nbconvert_exporter": "python",
   "pygments_lexer": "ipython3",
   "version": "3.9.7"
  }
 },
 "nbformat": 4,
 "nbformat_minor": 5
}
