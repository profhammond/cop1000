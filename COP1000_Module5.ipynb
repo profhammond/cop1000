{
 "cells": [
  {
   "cell_type": "markdown",
   "id": "e40850de",
   "metadata": {},
   "source": [
    "We then call the print() function that is built into python and 'pass' the function the value being returned by a string function called isalnum()."
   ]
  },
  {
   "cell_type": "markdown",
   "id": "ee624097",
   "metadata": {},
   "source": [
    "Below is python programming code that we declare avariable named my_string and use the = operator to assign the value of \"Hello Scott\" to the variable.\n",
    "\"Hello Scott\" is a string of characters. string and char are two text data types. We then call the print() function that is built into python and 'pass' the function the value being returned by a string function called isalnum()."
   ]
  },
  {
   "cell_type": "code",
   "execution_count": null,
   "id": "ab54358d",
   "metadata": {},
   "outputs": [],
   "source": [
    "my_string = \"Hello Scott\"\n",
    "type(my_string)\n",
    "#print(my_string.isalnum())"
   ]
  },
  {
   "cell_type": "markdown",
   "id": "8a5facd6",
   "metadata": {},
   "source": [
    "**Composite Data Types**\n",
    "   * Struct's\n",
    "   * Collections \n",
    "   * Lists\n",
    "   * Arrays\n",
    "**Enumerated type**\n",
    "   * Enum\n",
    "   * Factor\n",
    "                         \n",
    "**Date / Time**\n",
    "   * Date\n",
    "   * Time\n",
    "   * DateTime\n",
    "                          \n",
    "**Pointers and References**\n",
    "   * Pointers\n",
    "                          \n",
    "**Complex numbers**\n",
    "   * *numpy*\n",
    "     * csingle (two single-precision floats)\n",
    "     * cdouble (two double-precision floats)\n",
    "     * clongdouble (two extended-precision floats)\n",
    "   * *py*\n",
    "     * complex"
   ]
  },
  {
   "cell_type": "markdown",
   "id": "1f494161",
   "metadata": {},
   "source": [
    "**Text Data Types**\n",
    " * **Character**\n",
    "   * *numpy*\n",
    "    * int\n",
    "    * uintc\n",
    "   * *py*\n",
    "    * int"
   ]
  }
 ],
 "metadata": {
  "kernelspec": {
   "display_name": "Python 3 (ipykernel)",
   "language": "python",
   "name": "python3"
  },
  "language_info": {
   "codemirror_mode": {
    "name": "ipython",
    "version": 3
   },
   "file_extension": ".py",
   "mimetype": "text/x-python",
   "name": "python",
   "nbconvert_exporter": "python",
   "pygments_lexer": "ipython3",
   "version": "3.9.7"
  }
 },
 "nbformat": 4,
 "nbformat_minor": 5
}
